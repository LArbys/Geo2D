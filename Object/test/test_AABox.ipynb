{
 "cells": [
  {
   "cell_type": "code",
   "execution_count": 1,
   "metadata": {
    "collapsed": false
   },
   "outputs": [
    {
     "data": {
      "text/plain": [
       "__main__.geo2d::load_pyutil"
      ]
     },
     "execution_count": 1,
     "metadata": {},
     "output_type": "execute_result"
    }
   ],
   "source": [
    "%matplotlib inline\n",
    "#%pylab\n",
    "import matplotlib\n",
    "import matplotlib.pyplot as plt\n",
    "import matplotlib.colors as mpc\n",
    "from mpl_toolkits.mplot3d import Axes3D\n",
    "import numpy as np\n",
    "\n",
    "import scipy\n",
    "from scipy import interpolate\n",
    "import pandas as pd\n",
    "import itertools\n",
    "from root_numpy import root2array, root2rec, tree2rec, array2root\n",
    "import ROOT\n",
    "from ROOT import geo2d\n",
    "geo2d.load_pyutil"
   ]
  },
  {
   "cell_type": "code",
   "execution_count": 2,
   "metadata": {
    "collapsed": false
   },
   "outputs": [
    {
     "data": {
      "image/png": "[encoded data removed]",
      "text/plain": [
       "<matplotlib.figure.Figure at 0x1145a0e90>"
      ]
     },
     "metadata": {},
     "output_type": "display_data"
    },
    {
     "data": {
      "image/png": "[encoded data removed]",
      "text/plain": [
       "<matplotlib.figure.Figure at 0x11b1c8ad0>"
      ]
     },
     "metadata": {},
     "output_type": "display_data"
    },
    {
     "data": {
      "image/png": "[encoded data removed]",
      "text/plain": [
       "<matplotlib.figure.Figure at 0x11b241c50>"
      ]
     },
     "metadata": {},
     "output_type": "display_data"
    }
   ],
   "source": [
    "def plot_box(box,xmin=None,xmax=None,ymin=None,ymax=None,points=None):\n",
    "    v=box.as_vector()\n",
    "    ar=geo2d.as_ndarray64(v)\n",
    "    \n",
    "    data_x,data_y=[],[]\n",
    "    for x in xrange(len(ar)/2):\n",
    "        data_x.append(ar[2*x])\n",
    "        data_y.append(ar[2*x+1])\n",
    "    data_x.append(data_x[0])\n",
    "    data_y.append(data_y[0])\n",
    "\n",
    "    if points:\n",
    "        plt.plot(points[0],points[1],color='r',marker='o',linestyle='',markersize=5)\n",
    "    plt.plot(data_x,data_y,marker='o',markersize=10)\n",
    "    ar=ar.reshape(4,2)\n",
    "    if xmin is None: xmin = box.xmin()\n",
    "    if ymin is None: ymin = box.ymin()\n",
    "    if xmax is None: xmax = box.xmax()\n",
    "    if ymax is None: ymax = box.ymax()\n",
    "    plt.xlim(xmin,xmax)\n",
    "    plt.ylim(ymin,ymax)\n",
    "    plt.show()\n",
    "    \n",
    "\n",
    "geo2d.load_pyutil\n",
    "k=geo2d.Vector2D(\"double\")(0,0)\n",
    "j=geo2d.Vector2D(\"double\")(2,4)\n",
    "b=geo2d.AABox(\"double\")(k,j)\n",
    "plot_box(b,-1,6,-1,6)\n",
    "b.shift(1.,1.)\n",
    "plot_box(b,-1,6,-1,6)\n",
    "b.width(3.,3.)\n",
    "plot_box(b,-1,6,-1,6)"
   ]
  },
  {
   "cell_type": "code",
   "execution_count": 3,
   "metadata": {
    "collapsed": false
   },
   "outputs": [
    {
     "data": {
      "image/png": "[encoded data removed]",
      "text/plain": [
       "<matplotlib.figure.Figure at 0x11b1d6b90>"
      ]
     },
     "metadata": {},
     "output_type": "display_data"
    }
   ],
   "source": [
    "npts=100\n",
    "data_x = np.random.normal(100, 10, npts)\n",
    "data_y = np.random.normal(100, 10, npts)\n",
    "stdx = ROOT.std.vector(\"double\")(npts)\n",
    "stdy = ROOT.std.vector(\"double\")(npts)\n",
    "for i in xrange(npts):\n",
    "    stdx[i] = data_x[i]\n",
    "    stdy[i] = data_y[i]\n",
    "\n",
    "pts  = geo2d.Vector2DArray(\"double\")(stdx,stdy)\n",
    "aabb = geo2d.AABox(\"double\")(pts)\n",
    "plot_box(aabb,-10,210,-10,210,(data_x,data_y))"
   ]
  },
  {
   "cell_type": "code",
   "execution_count": null,
   "metadata": {
    "collapsed": true
   },
   "outputs": [],
   "source": []
  },
  {
   "cell_type": "code",
   "execution_count": null,
   "metadata": {
    "collapsed": true
   },
   "outputs": [],
   "source": []
  }
 ],
 "metadata": {
  "kernelspec": {
   "display_name": "Python 2",
   "language": "python",
   "name": "python2"
  },
  "language_info": {
   "codemirror_mode": {
    "name": "ipython",
    "version": 2
   },
   "file_extension": ".py",
   "mimetype": "text/x-python",
   "name": "python",
   "nbconvert_exporter": "python",
   "pygments_lexer": "ipython2",
   "version": "2.7.10"
  }
 },
 "nbformat": 4,
 "nbformat_minor": 0
}
