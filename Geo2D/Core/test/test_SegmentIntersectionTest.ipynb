{
 "cells": [
  {
   "cell_type": "code",
   "execution_count": null,
   "metadata": {
    "collapsed": false
   },
   "outputs": [],
   "source": [
    "from ROOT import geo2d\n",
    "import ROOT\n",
    "import numpy as np\n",
    "import matplotlib\n",
    "import matplotlib.pyplot as plt\n",
    "%matplotlib inline"
   ]
  },
  {
   "cell_type": "code",
   "execution_count": null,
   "metadata": {
    "collapsed": false
   },
   "outputs": [],
   "source": [
    "geo2d.load_pyutil\n",
    "from ROOT.cv import Point_ as Vector\n",
    "DTYPE='float'"
   ]
  },
  {
   "cell_type": "code",
   "execution_count": null,
   "metadata": {
    "collapsed": false,
    "scrolled": false
   },
   "outputs": [],
   "source": [
    "fig,ax=plt.subplots(figsize=(10,6))\n",
    "ls1=geo2d.LineSegment(DTYPE)(Vector(DTYPE)(0,0),Vector(DTYPE)(10,10))\n",
    "ax.plot([ls1.pt1.x,ls1.pt2.x],[ls1.pt1.y,ls1.pt2.y],'-o',lw=2,color='blue')\n",
    "\n",
    "for i in xrange(-10,10):\n",
    "    ls2=geo2d.LineSegment(DTYPE)(Vector(DTYPE)(0,i),Vector(DTYPE)(5,0))\n",
    "    ax.plot([ls2.pt1.x,ls2.pt2.x],[ls2.pt1.y,ls2.pt2.y],'-',lw=2,color='red',alpha=0.5)\n",
    "    pt=Vector(DTYPE)(0,0)\n",
    "    geo2d.IntersectionPoint(DTYPE)(ls1,ls2,pt)\n",
    "    ax.plot(pt.x,pt.y,'*',markersize=10,color='yellow')\n",
    "    \n",
    "for i in xrange(-10,10):\n",
    "    ls2=geo2d.LineSegment(DTYPE)(Vector(DTYPE)(10,i),Vector(DTYPE)(5,0))\n",
    "    ax.plot([ls2.pt1.x,ls2.pt2.x],[ls2.pt1.y,ls2.pt2.y],'-',lw=2,color='red',alpha=0.5)\n",
    "    pt=Vector(DTYPE)(0,0)\n",
    "    geo2d.IntersectionPoint(DTYPE)(ls1,ls2,pt)\n",
    "    ax.plot(pt.x,pt.y,'*',markersize=10,color='yellow')\n",
    "    \n",
    "for i in xrange(0,10):\n",
    "    ls2=geo2d.LineSegment(DTYPE)(Vector(DTYPE)(i,-10),Vector(DTYPE)(5,0))\n",
    "    ax.plot([ls2.pt1.x,ls2.pt2.x],[ls2.pt1.y,ls2.pt2.y],'-',lw=2,color='red',alpha=0.5)\n",
    "    pt=Vector(DTYPE)(0,0)\n",
    "    geo2d.IntersectionPoint(DTYPE)(ls1,ls2,pt)\n",
    "    ax.plot(pt.x,pt.y,'*',markersize=10,color='yellow')\n",
    "    \n",
    "for i in xrange(0,10):\n",
    "    ls2=geo2d.LineSegment(DTYPE)(Vector(DTYPE)(i,10),Vector(DTYPE)(5,0))\n",
    "    ax.plot([ls2.pt1.x,ls2.pt2.x],[ls2.pt1.y,ls2.pt2.y],'-',lw=2,color='red',alpha=0.5)\n",
    "    pt=Vector(DTYPE)(0,0)\n",
    "    geo2d.IntersectionPoint(DTYPE)(ls1,ls2,pt)\n",
    "    ax.plot(pt.x,pt.y,'*',markersize=10,color='yellow')\n",
    "    \n",
    "ax.set_xlim(-5,15)\n",
    "ax.set_ylim(-15,15)\n",
    "plt.show()"
   ]
  },
  {
   "cell_type": "code",
   "execution_count": null,
   "metadata": {
    "collapsed": false
   },
   "outputs": [],
   "source": []
  },
  {
   "cell_type": "code",
   "execution_count": null,
   "metadata": {
    "collapsed": false
   },
   "outputs": [],
   "source": []
  }
 ],
 "metadata": {
  "kernelspec": {
   "display_name": "Python 2",
   "language": "python",
   "name": "python2"
  },
  "language_info": {
   "codemirror_mode": {
    "name": "ipython",
    "version": 2
   },
   "file_extension": ".py",
   "mimetype": "text/x-python",
   "name": "python",
   "nbconvert_exporter": "python",
   "pygments_lexer": "ipython2",
   "version": "2.7.10"
  }
 },
 "nbformat": 4,
 "nbformat_minor": 0
}
