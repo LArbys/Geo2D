{
 "cells": [
  {
   "cell_type": "code",
   "execution_count": null,
   "metadata": {
    "collapsed": false
   },
   "outputs": [],
   "source": [
    "%matplotlib inline\n",
    "#%pylab\n",
    "import matplotlib\n",
    "import matplotlib.pyplot as plt\n",
    "import matplotlib.colors as mpc\n",
    "from mpl_toolkits.mplot3d import Axes3D\n",
    "import numpy as np\n",
    "import matplotlib.patches as patches\n",
    "import scipy\n",
    "from scipy import interpolate\n",
    "import pandas as pd\n",
    "import itertools\n",
    "from root_numpy import root2array, root2rec, tree2rec, array2root\n",
    "import ROOT\n",
    "from ROOT import geo2d\n",
    "geo2d.load_pyutil\n",
    "from ROOT.cv import Point_ as Vector\n",
    "DTYPE='float'\n",
    "pdraw = geo2d.PyDraw()"
   ]
  },
  {
   "cell_type": "code",
   "execution_count": null,
   "metadata": {
    "collapsed": false,
    "scrolled": true
   },
   "outputs": [],
   "source": [
    "geo2d.load_pyutil\n",
    "def circle_pts(idx=0):\n",
    "\n",
    "    radv = np.arange(0,120,6)\n",
    "    plt.subplots(figsize=(4, 4))\n",
    "\n",
    "    for x in xrange(20):\n",
    "        box = geo2d.RotatedRect()\n",
    "        (box.center.x, box.center.y, box.size.width, box.size.height) = (0., 0., 2., 4.)\n",
    "        box.angle = radv[x]\n",
    "        pts_x,pts_y = pdraw.rrect(box)\n",
    "        if not x:\n",
    "            plt.plot([pts_x[idx]],[pts_y[idx]],color='r',marker='o',linestyle='',markersize=5)\n",
    "        else:\n",
    "            plt.plot([pts_x[idx]],[pts_y[idx]],color='b',marker='o',linestyle='',markersize=5)\n",
    "    plt.grid()\n",
    "    plt.xlim(-4,4)\n",
    "    plt.ylim(-4,4)\n",
    "    plt.show()\n",
    "\n",
    "def plot_box(box,xmin=None,xmax=None,ymin=None,ymax=None,points=None):\n",
    "\n",
    "    fig,ax = plt.subplots(figsize=(4,4))\n",
    "    data_x,data_y = pdraw.rrect(box)\n",
    "    data_x = np.append(data_x,data_x[0])\n",
    "    data_y = np.append(data_y,data_y[0])\n",
    "\n",
    "    if points:\n",
    "        plt.plot(points[0],points[1],color='r',marker='o',linestyle='',markersize=5)\n",
    "    plt.plot(data_x,data_y,marker='o',markersize=10)\n",
    "\n",
    "    if xmin is None: xmin = data_x.min()\n",
    "    if ymin is None: ymin = data_y.min()\n",
    "    if xmax is None: xmax = data_x.max()\n",
    "    if ymax is None: ymax = data_y.max()\n",
    "    plt.xlim(xmin,xmax)\n",
    "    plt.ylim(ymin,ymax)\n",
    "    return plt\n",
    "    \n",
    "def plot_hull(hull,xmin,xmax,ymin,ymax,points=None):\n",
    "\n",
    "    data_x,data_y=[],[]\n",
    "    for i in xrange(hull.size()):\n",
    "        data_x.append(hull[i].x)\n",
    "        data_y.append(hull[i].y)\n",
    "    data_x.append(data_x[0])\n",
    "    data_y.append(data_y[0])\n",
    "\n",
    "    plt.subplots(figsize=(4, 4))\n",
    "    plt.plot(data_x,data_y,marker='o',markersize=10)\n",
    "    if points:\n",
    "        plt.plot(points[0],points[1],color='r',marker='o',linestyle='',markersize=5)\n",
    "    \n",
    "    plt.grid()\n",
    "    plt.xlim(xmin,xmax)\n",
    "    plt.ylim(ymin,ymax)\n",
    "    #plt.show()\n",
    "    return plt \n"
   ]
  },
  {
   "cell_type": "code",
   "execution_count": null,
   "metadata": {
    "collapsed": false,
    "scrolled": true
   },
   "outputs": [],
   "source": [
    "circle_pts(0)\n",
    "circle_pts(1)\n",
    "circle_pts(2)\n",
    "circle_pts(3)"
   ]
  },
  {
   "cell_type": "code",
   "execution_count": null,
   "metadata": {
    "collapsed": false,
    "scrolled": false
   },
   "outputs": [],
   "source": [
    "box = geo2d.RotatedRect()\n",
    "(box.center.x, box.center.y, box.size.width, box.size.height) = (0., 0., 2., 4.)\n",
    "box.angle = 0\n",
    "plot_box(box,-10,10,-10,10)"
   ]
  },
  {
   "cell_type": "code",
   "execution_count": null,
   "metadata": {
    "collapsed": false,
    "scrolled": true
   },
   "outputs": [],
   "source": [
    "for x in xrange(20):\n",
    "    \n",
    "    box = geo2d.RotatedRect()\n",
    "    (box.center.x, box.center.y, box.size.width, box.size.height) = (0., 0., 2., 4.)\n",
    "    box.angle = x*360./20.\n",
    "    #print b.xmax(),b.ymax()\n",
    "    circle=patches.Circle((0,0),radius=np.sqrt(5),ec='black',fc='none',alpha=0.3)\n",
    "\n",
    "    plt=plot_box(box,-5,5,-5,5)\n",
    "    ax=plt.gca()\n",
    "    ax.add_patch(circle)\n",
    "    plt.show()"
   ]
  },
  {
   "cell_type": "code",
   "execution_count": null,
   "metadata": {
    "collapsed": true
   },
   "outputs": [],
   "source": [
    "    circle=patches.Circle"
   ]
  },
  {
   "cell_type": "code",
   "execution_count": null,
   "metadata": {
    "collapsed": false,
    "scrolled": true
   },
   "outputs": [],
   "source": [
    "for x in xrange(6):\n",
    "    box = geo2d.RotatedRect()\n",
    "    (box.center.x, box.center.y, box.size.width, box.size.height) = (-3.+x, 0., 2., 4.)\n",
    "    box.angle = -4./6.*180*x\n",
    "    plot_box(box,-10,10,-10,10)"
   ]
  },
  {
   "cell_type": "code",
   "execution_count": null,
   "metadata": {
    "collapsed": false
   },
   "outputs": [],
   "source": [
    "box = geo2d.RotatedRect()\n",
    "(box.center.x, box.center.y, box.size.width, box.size.height) = (2., 2., 2., 3.)\n",
    "box.angle = 45\n",
    "\n",
    "npts=400\n",
    "#pt_x = np.random.normal(0, 5, npts)\n",
    "#pt_y = np.random.normal(0, 5, npts)\n",
    "pt_x = np.arange(-10,10,1./10)\n",
    "pt_y = np.arange(-10,10,1./10)\n",
    "data_x=[]\n",
    "data_y=[]\n",
    "for x in pt_x:\n",
    "    for y in pt_y:\n",
    "        pt = Vector(DTYPE)(x,y)\n",
    "        if geo2d.contains(box,pt): continue\n",
    "        data_x.append(x)\n",
    "        data_y.append(y)\n",
    "plot_box(box,-10,10,-10,10,(data_x,data_y))"
   ]
  },
  {
   "cell_type": "code",
   "execution_count": null,
   "metadata": {
    "collapsed": false,
    "scrolled": true
   },
   "outputs": [],
   "source": [
    "npts=100\n",
    "data_x = np.random.normal(100, 10, npts)\n",
    "data_y = np.random.normal(100, 10, npts)\n",
    "stdx = ROOT.std.vector(DTYPE)(npts)\n",
    "stdy = ROOT.std.vector(DTYPE)(npts)\n",
    "for i in xrange(npts):\n",
    "    stdx[i] = data_x[i]\n",
    "    stdy[i] = data_y[i]\n",
    "\n",
    "alg = geo2d.AlgoConvexHull(DTYPE)()\n",
    "pts  = geo2d.VectorArray(DTYPE)(stdx,stdy)\n",
    "aabb = alg.test2(pts)\n",
    "plot_box(aabb,-10,210,-10,210,(data_x,data_y))"
   ]
  },
  {
   "cell_type": "code",
   "execution_count": null,
   "metadata": {
    "collapsed": false
   },
   "outputs": [],
   "source": [
    "hull=alg.MonotoneChain(pts)\n",
    "print hull.size(),pts.size()\n",
    "plot_hull(hull,50,130,60,140,(data_x,data_y))"
   ]
  },
  {
   "cell_type": "code",
   "execution_count": null,
   "metadata": {
    "collapsed": true
   },
   "outputs": [],
   "source": []
  }
 ],
 "metadata": {
  "kernelspec": {
   "display_name": "Python 2",
   "language": "python",
   "name": "python2"
  },
  "language_info": {
   "codemirror_mode": {
    "name": "ipython",
    "version": 2
   },
   "file_extension": ".py",
   "mimetype": "text/x-python",
   "name": "python",
   "nbconvert_exporter": "python",
   "pygments_lexer": "ipython2",
   "version": "2.7.10"
  }
 },
 "nbformat": 4,
 "nbformat_minor": 0
}
