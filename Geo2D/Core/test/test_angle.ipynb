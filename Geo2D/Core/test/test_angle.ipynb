{
 "cells": [
  {
   "cell_type": "code",
   "execution_count": null,
   "metadata": {
    "collapsed": false
   },
   "outputs": [],
   "source": [
    "%matplotlib inline\n",
    "import matplotlib.pyplot as plt\n",
    "import matplotlib.patches as patchs\n",
    "from ROOT import geo2d\n",
    "geo2d.load_pyutil\n",
    "from ROOT.cv import Point_ as Vector\n",
    "import math\n",
    "DTYPE='float'\n",
    "PI = math.pi"
   ]
  },
  {
   "cell_type": "markdown",
   "metadata": {},
   "source": [
    "# LineSegment Angle"
   ]
  },
  {
   "cell_type": "code",
   "execution_count": null,
   "metadata": {
    "collapsed": false,
    "scrolled": false
   },
   "outputs": [],
   "source": [
    "pt_ori = Vector(DTYPE)(0,0)\n",
    "pt_ref = Vector(DTYPE)(1,0)\n",
    "step =36\n",
    "pts =[]\n",
    "angle = []\n",
    "\n",
    "fig, (ax1, ax2) = plt.subplots(nrows=1, ncols=2, figsize=(12, 6))\n",
    "for i in xrange(step):\n",
    "    pt_ori = Vector(DTYPE)(0,0)\n",
    "    pt_mov = Vector(DTYPE)(math.cos(i*2*PI/step),math.sin(i*2*PI/step))\n",
    "    pts.append([pt_mov.x, pt_mov.y])\n",
    "    line_mov = geo2d.LineSegment(\"float\")(pt_ori,pt_mov)\n",
    "    angle.append(geo2d.angle(line_mov))#<<<<<<================\n",
    "    ax1.plot([pt_ori.x,pt_mov.x],[pt_ori.y,pt_mov.y],'-o',lw =1,color = 'red')\n",
    "\n",
    "ax1.set_xlim(-1.1,1.1)\n",
    "ax1.set_ylim(-1.1,1.1)\n",
    "ax2.set_xlim(-5,365)\n",
    "ax2.set_ylim(-185,185)\n",
    "for pt in pts:\n",
    "    ax1.plot(pt[0],pt[1],'*',color='red')\n",
    "\n",
    "ax2.plot([i*360/step for i in xrange(step) ],angle,'*',color='red')\n",
    "ax2.grid()\n",
    "ax2.set_xlabel(\"input angle\")\n",
    "ax2.set_ylabel(\"output angle\")"
   ]
  },
  {
   "cell_type": "markdown",
   "metadata": {},
   "source": [
    "# Δ LineSegment Angle"
   ]
  },
  {
   "cell_type": "code",
   "execution_count": null,
   "metadata": {
    "collapsed": false,
    "scrolled": true
   },
   "outputs": [],
   "source": [
    "for x in xrange(9):\n",
    "    pt_ori = Vector(DTYPE)(0,0)\n",
    "    pt_ref = Vector(DTYPE)(math.cos(x*2*PI/8),math.sin(x*2*PI/8))\n",
    "    step =36\n",
    "    pts =[]\n",
    "    angle = []\n",
    "    print \"Reference line angle: \", 45*x\n",
    "    fig, (ax1, ax2) = plt.subplots(nrows=1, ncols=2, figsize=(12, 6))\n",
    "\n",
    "    for i in xrange(step):\n",
    "        pt_ori = Vector(DTYPE)(0,0)\n",
    "        pt_mov = Vector(DTYPE)(math.cos(i*2*PI/step),math.sin(i*2*PI/step))\n",
    "        pts.append([pt_mov.x, pt_mov.y])\n",
    "        line_ref = geo2d.LineSegment(\"float\")(pt_ori,pt_ref)\n",
    "        line_mov = geo2d.LineSegment(\"float\")(pt_ori,pt_mov)\n",
    "        angle.append(geo2d.angle(line_ref,line_mov))#<<<<<<================\n",
    "        ax1.plot([pt_ori.x,pt_mov.x],[pt_ori.y,pt_mov.y],'-o',lw =1,color = 'red')\n",
    "\n",
    "    ax1.set_xlim(-1.1,1.1)\n",
    "    ax1.set_ylim(-1.1,1.1)\n",
    "    ax2.set_xlim(-5,365)\n",
    "    ax2.set_ylim(-365,365)\n",
    "    for pt in pts:\n",
    "        ax1.plot(pt[0],pt[1],'*',color='red')\n",
    "        ax1.plot([pt_ori.x,pt_ref.x],[pt_ori.y,pt_ref.y],'-o',lw =2)\n",
    "    ax2.plot([i*360/step for i in xrange(step) ],angle,'*')\n",
    "    ax2.grid()\n",
    "    ax2.set_xlabel(\"input angle\")\n",
    "    ax2.set_ylabel(\"output angle\")\n",
    "    plt.show()"
   ]
  },
  {
   "cell_type": "markdown",
   "metadata": {},
   "source": [
    "# Line Angle"
   ]
  },
  {
   "cell_type": "code",
   "execution_count": null,
   "metadata": {
    "collapsed": false
   },
   "outputs": [],
   "source": [
    "pt_ori = Vector(DTYPE)(0,0)\n",
    "step =36\n",
    "pts =[]\n",
    "angle = []\n",
    "\n",
    "fig, (ax1, ax2) = plt.subplots(nrows=1, ncols=2, figsize=(12, 6))\n",
    "for i in xrange(step):\n",
    "    pt_ori = Vector(DTYPE)(0,0)\n",
    "    pt_mov = Vector(DTYPE)(math.cos(i*2*PI/step),math.sin(i*2*PI/step))\n",
    "    pts.append([pt_mov.x, pt_mov.y])\n",
    "    line_mov = geo2d.Line(\"float\")(pt_ori,pt_mov)\n",
    "    angle.append(geo2d.angle(line_mov))#<<<<<<================\n",
    "    ax1.plot([pt_ori.x,pt_mov.x],[pt_ori.y,pt_mov.y],'-o',lw =1,color = 'red')\n",
    "\n",
    "ax1.set_xlim(-1.1,1.1)\n",
    "ax1.set_ylim(-1.1,1.1)\n",
    "ax2.set_xlim(-5,365)\n",
    "ax2.set_ylim(-100,100)\n",
    "for pt in pts:\n",
    "    ax1.plot(pt[0],pt[1],'*',color='red')\n",
    "\n",
    "ax2.plot([i*360/step for i in xrange(step) ],angle,'*',color='red')\n",
    "ax2.grid()\n",
    "ax2.set_xlabel(\"input angle\")\n",
    "ax2.set_ylabel(\"output angle\")"
   ]
  },
  {
   "cell_type": "markdown",
   "metadata": {},
   "source": [
    "# ΔLine Angle"
   ]
  },
  {
   "cell_type": "code",
   "execution_count": null,
   "metadata": {
    "collapsed": false,
    "scrolled": false
   },
   "outputs": [],
   "source": [
    "for x in xrange(9):\n",
    "    pt_ori = Vector(DTYPE)(0,0)\n",
    "    pt_ref = Vector(DTYPE)(math.cos(x*2*PI/8),math.sin(x*2*PI/8))\n",
    "    step =36\n",
    "    pts =[]\n",
    "    angle = []\n",
    "    \n",
    "    if (90< 45*x <180 or 270< 45*x <360) : \n",
    "        print \"Reference line angle: \", -1 * (45*x % 90)\n",
    "    else: print \"Reference line angle: \",(45*x % 90)\n",
    "    \n",
    "    fig, (ax1, ax2) = plt.subplots(nrows=1, ncols=2, figsize=(12, 6))\n",
    "\n",
    "    for i in xrange(step):\n",
    "        pt_ori = Vector(DTYPE)(0,0)\n",
    "        pt_mov = Vector(DTYPE)(math.cos(i*2*PI/step),math.sin(i*2*PI/step))\n",
    "        pts.append([pt_mov.x, pt_mov.y])\n",
    "        line_ref = geo2d.Line(\"float\")(pt_ori,pt_ref)\n",
    "        line_mov = geo2d.Line(\"float\")(pt_ori,pt_mov)\n",
    "        angle.append(geo2d.angle(line_ref,line_mov))#<<<<<<================\n",
    "        ax1.plot([pt_ori.x,pt_mov.x],[pt_ori.y,pt_mov.y],'-o',lw =1,color = 'red')\n",
    "\n",
    "    ax1.set_xlim(-1.1,1.1)\n",
    "    ax1.set_ylim(-1.1,1.1)\n",
    "    ax2.set_xlim(-5,365)\n",
    "    ax2.set_ylim(-100,100)\n",
    "    for pt in pts:\n",
    "        ax1.plot(pt[0],pt[1],'*',color='red')\n",
    "        ax1.plot([pt_ori.x,pt_ref.x],[pt_ori.y,pt_ref.y],'-o',lw =2)\n",
    "    ax2.plot([i*360/step for i in xrange(step) ],angle,'*')\n",
    "    ax2.grid()\n",
    "    ax2.set_xlabel(\"input angle\")\n",
    "    ax2.set_ylabel(\"output angle\")\n",
    "    plt.show()"
   ]
  },
  {
   "cell_type": "code",
   "execution_count": null,
   "metadata": {
    "collapsed": true
   },
   "outputs": [],
   "source": []
  },
  {
   "cell_type": "code",
   "execution_count": null,
   "metadata": {
    "collapsed": true
   },
   "outputs": [],
   "source": []
  },
  {
   "cell_type": "code",
   "execution_count": null,
   "metadata": {
    "collapsed": true
   },
   "outputs": [],
   "source": []
  },
  {
   "cell_type": "code",
   "execution_count": null,
   "metadata": {
    "collapsed": true
   },
   "outputs": [],
   "source": []
  },
  {
   "cell_type": "code",
   "execution_count": null,
   "metadata": {
    "collapsed": true
   },
   "outputs": [],
   "source": []
  },
  {
   "cell_type": "code",
   "execution_count": null,
   "metadata": {
    "collapsed": true
   },
   "outputs": [],
   "source": []
  },
  {
   "cell_type": "code",
   "execution_count": null,
   "metadata": {
    "collapsed": true
   },
   "outputs": [],
   "source": []
  },
  {
   "cell_type": "code",
   "execution_count": null,
   "metadata": {
    "collapsed": false
   },
   "outputs": [],
   "source": [
    "pt0 = Vector(DTYPE)(0,0)\n",
    "pt1 = Vector(DTYPE)(-1,1)\n",
    "pt2 = Vector(DTYPE)(1,1)\n",
    "ls1 = geo2d.LineSegment(DTYPE)(pt0, pt1)\n",
    "ls2 = geo2d.LineSegment(DTYPE)(pt0, pt2)\n",
    "a = geo2d.angle(ls1,ls2)\n",
    "b = geo2d.angle(ls1)\n",
    "print b"
   ]
  },
  {
   "cell_type": "code",
   "execution_count": null,
   "metadata": {
    "collapsed": false
   },
   "outputs": [],
   "source": [
    "l1 = geo2d.Line(DTYPE)(pt0,pt1)\n",
    "print l1.dir.x, l1.dir.y\n",
    "l2 = geo2d.Line(DTYPE)(pt0,pt2)\n",
    "print l2.dir.x, l2.dir.y\n",
    "a =  geo2d.angle(l1,l2)\n",
    "b =  geo2d.angle(l1)\n",
    "print b"
   ]
  }
 ],
 "metadata": {
  "kernelspec": {
   "display_name": "Python 2",
   "language": "python",
   "name": "python2"
  },
  "language_info": {
   "codemirror_mode": {
    "name": "ipython",
    "version": 2
   },
   "file_extension": ".py",
   "mimetype": "text/x-python",
   "name": "python",
   "nbconvert_exporter": "python",
   "pygments_lexer": "ipython2",
   "version": "2.7.10"
  }
 },
 "nbformat": 4,
 "nbformat_minor": 1
}
