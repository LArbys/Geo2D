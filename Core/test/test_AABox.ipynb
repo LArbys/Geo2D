{
 "cells": [
  {
   "cell_type": "code",
   "execution_count": 1,
   "metadata": {
    "collapsed": false
   },
   "outputs": [],
   "source": [
    "%matplotlib inline\n",
    "#%pylab\n",
    "import matplotlib\n",
    "import matplotlib.pyplot as plt\n",
    "import matplotlib.colors as mpc\n",
    "from mpl_toolkits.mplot3d import Axes3D\n",
    "import numpy as np\n",
    "\n",
    "import scipy\n",
    "from scipy import interpolate\n",
    "import pandas as pd\n",
    "import itertools\n",
    "from root_numpy import root2array, root2rec, tree2rec, array2root\n",
    "import ROOT\n",
    "from ROOT import geo2d,cv\n",
    "geo2d.load_pyutil\n",
    "from ROOT.cv import Point_ as Vector2D\n",
    "DTYPE='float'\n",
    "pdraw = geo2d.PyDraw()"
   ]
  },
  {
   "cell_type": "code",
   "execution_count": 2,
   "metadata": {
    "collapsed": false
   },
   "outputs": [
    {
     "data": {
      "image/png": "[encoded data removed]",
      "text/plain": [
       "<matplotlib.figure.Figure at 0x121eac750>"
      ]
     },
     "metadata": {},
     "output_type": "display_data"
    },
    {
     "data": {
      "image/png": "[encoded data removed]",
      "text/plain": [
       "<matplotlib.figure.Figure at 0x13517c3d0>"
      ]
     },
     "metadata": {},
     "output_type": "display_data"
    },
    {
     "data": {
      "image/png": "[encoded data removed]",
      "text/plain": [
       "<matplotlib.figure.Figure at 0x121e98bd0>"
      ]
     },
     "metadata": {},
     "output_type": "display_data"
    }
   ],
   "source": [
    "def plot_box(box,xmin=None,xmax=None,ymin=None,ymax=None,points=None):\n",
    "    data_x,data_y = pdraw.rect(box)\n",
    "    data_x = np.append(data_x,data_x[0])\n",
    "    data_y = np.append(data_y,data_y[0])\n",
    "\n",
    "    if points:\n",
    "        plt.plot(points[0],points[1],color='r',marker='o',linestyle='',markersize=5)\n",
    "    plt.plot(data_x,data_y,marker='o',markersize=10)\n",
    "\n",
    "    if xmin is None: xmin = data_x.min()\n",
    "    if ymin is None: ymin = data_y.min()\n",
    "    if xmax is None: xmax = data_x.max()\n",
    "    if ymax is None: ymax = data_y.max()\n",
    "    plt.xlim(xmin,xmax)\n",
    "    plt.ylim(ymin,ymax)\n",
    "    plt.show()\n",
    "    \n",
    "\n",
    "geo2d.load_pyutil\n",
    "b=cv.Rect_(DTYPE)()\n",
    "(b.x, b.y, b.width, b.height) = (3.,3.,4.,2.)\n",
    "plot_box(b,-1,10,-1,10)\n",
    "(b.x, b.y) = (4., 4.)\n",
    "plot_box(b,-1,10,-1,10)\n",
    "(b.width,b.height) = (2.,4.)\n",
    "plot_box(b,-1,10,-1,10)"
   ]
  },
  {
   "cell_type": "code",
   "execution_count": 3,
   "metadata": {
    "collapsed": false
   },
   "outputs": [
    {
     "data": {
      "image/png": "[encoded data removed]",
      "text/plain": [
       "<matplotlib.figure.Figure at 0x1351c5b50>"
      ]
     },
     "metadata": {},
     "output_type": "display_data"
    }
   ],
   "source": [
    "npts=100\n",
    "data_x = np.random.normal(100, 10, npts)\n",
    "data_y = np.random.normal(100, 10, npts)\n",
    "stdx = ROOT.std.vector(DTYPE)(npts)\n",
    "stdy = ROOT.std.vector(DTYPE)(npts)\n",
    "for i in xrange(npts):\n",
    "    stdx[i] = data_x[i]\n",
    "    stdy[i] = data_y[i]\n",
    "\n",
    "pts  = geo2d.Vector2DArray(DTYPE)(stdx,stdy)\n",
    "alg=geo2d.AlgoConvexHull(DTYPE)()\n",
    "plot_box(alg.test(pts),-10,210,-10,210,(data_x,data_y))\n"
   ]
  },
  {
   "cell_type": "code",
   "execution_count": null,
   "metadata": {
    "collapsed": true
   },
   "outputs": [],
   "source": []
  },
  {
   "cell_type": "code",
   "execution_count": null,
   "metadata": {
    "collapsed": true
   },
   "outputs": [],
   "source": []
  }
 ],
 "metadata": {
  "kernelspec": {
   "display_name": "Python 2",
   "language": "python",
   "name": "python2"
  },
  "language_info": {
   "codemirror_mode": {
    "name": "ipython",
    "version": 2
   },
   "file_extension": ".py",
   "mimetype": "text/x-python",
   "name": "python",
   "nbconvert_exporter": "python",
   "pygments_lexer": "ipython2",
   "version": "2.7.10"
  }
 },
 "nbformat": 4,
 "nbformat_minor": 0
}
