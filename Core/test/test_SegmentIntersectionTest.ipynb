{
 "cells": [
  {
   "cell_type": "code",
   "execution_count": 1,
   "metadata": {
    "collapsed": false
   },
   "outputs": [],
   "source": [
    "from ROOT import geo2d\n",
    "import ROOT\n",
    "import numpy as np\n",
    "import matplotlib\n",
    "import matplotlib.pyplot as plt\n",
    "%matplotlib inline"
   ]
  },
  {
   "cell_type": "code",
   "execution_count": 2,
   "metadata": {
    "collapsed": false
   },
   "outputs": [],
   "source": [
    "geo2d.load_pyutil\n",
    "from ROOT.cv import Point_ as Vector\n",
    "DTYPE='float'"
   ]
  },
  {
   "cell_type": "code",
   "execution_count": 3,
   "metadata": {
    "collapsed": false
   },
   "outputs": [
    {
     "ename": "TypeError",
     "evalue": "can not resolve method template call for 'Intersection'",
     "output_type": "error",
     "traceback": [
      "\u001b[0;31m---------------------------------------------------------------------------\u001b[0m",
      "\u001b[0;31mTypeError\u001b[0m                                 Traceback (most recent call last)",
      "\u001b[0;32m<ipython-input-3-4e3ad54944ae>\u001b[0m in \u001b[0;36m<module>\u001b[0;34m()\u001b[0m\n\u001b[1;32m      7\u001b[0m     \u001b[0max\u001b[0m\u001b[0;34m.\u001b[0m\u001b[0mplot\u001b[0m\u001b[0;34m(\u001b[0m\u001b[0;34m[\u001b[0m\u001b[0mls2\u001b[0m\u001b[0;34m.\u001b[0m\u001b[0mpt1\u001b[0m\u001b[0;34m.\u001b[0m\u001b[0mx\u001b[0m\u001b[0;34m,\u001b[0m\u001b[0mls2\u001b[0m\u001b[0;34m.\u001b[0m\u001b[0mpt2\u001b[0m\u001b[0;34m.\u001b[0m\u001b[0mx\u001b[0m\u001b[0;34m]\u001b[0m\u001b[0;34m,\u001b[0m\u001b[0;34m[\u001b[0m\u001b[0mls2\u001b[0m\u001b[0;34m.\u001b[0m\u001b[0mpt1\u001b[0m\u001b[0;34m.\u001b[0m\u001b[0my\u001b[0m\u001b[0;34m,\u001b[0m\u001b[0mls2\u001b[0m\u001b[0;34m.\u001b[0m\u001b[0mpt2\u001b[0m\u001b[0;34m.\u001b[0m\u001b[0my\u001b[0m\u001b[0;34m]\u001b[0m\u001b[0;34m,\u001b[0m\u001b[0;34m'-'\u001b[0m\u001b[0;34m,\u001b[0m\u001b[0mlw\u001b[0m\u001b[0;34m=\u001b[0m\u001b[0;36m2\u001b[0m\u001b[0;34m,\u001b[0m\u001b[0mcolor\u001b[0m\u001b[0;34m=\u001b[0m\u001b[0;34m'red'\u001b[0m\u001b[0;34m,\u001b[0m\u001b[0malpha\u001b[0m\u001b[0;34m=\u001b[0m\u001b[0;36m0.5\u001b[0m\u001b[0;34m)\u001b[0m\u001b[0;34m\u001b[0m\u001b[0m\n\u001b[1;32m      8\u001b[0m     \u001b[0mpt\u001b[0m\u001b[0;34m=\u001b[0m\u001b[0mVector\u001b[0m\u001b[0;34m(\u001b[0m\u001b[0mDTYPE\u001b[0m\u001b[0;34m)\u001b[0m\u001b[0;34m(\u001b[0m\u001b[0;36m0\u001b[0m\u001b[0;34m,\u001b[0m\u001b[0;36m0\u001b[0m\u001b[0;34m)\u001b[0m\u001b[0;34m\u001b[0m\u001b[0m\n\u001b[0;32m----> 9\u001b[0;31m     \u001b[0mgeo2d\u001b[0m\u001b[0;34m.\u001b[0m\u001b[0mIntersection\u001b[0m\u001b[0;34m(\u001b[0m\u001b[0mls1\u001b[0m\u001b[0;34m,\u001b[0m\u001b[0mls2\u001b[0m\u001b[0;34m,\u001b[0m\u001b[0mpt\u001b[0m\u001b[0;34m)\u001b[0m\u001b[0;34m\u001b[0m\u001b[0m\n\u001b[0m\u001b[1;32m     10\u001b[0m \u001b[0;34m\u001b[0m\u001b[0m\n\u001b[1;32m     11\u001b[0m     \u001b[0max\u001b[0m\u001b[0;34m.\u001b[0m\u001b[0mplot\u001b[0m\u001b[0;34m(\u001b[0m\u001b[0mpt\u001b[0m\u001b[0;34m.\u001b[0m\u001b[0mx\u001b[0m\u001b[0;34m,\u001b[0m\u001b[0mpt\u001b[0m\u001b[0;34m.\u001b[0m\u001b[0my\u001b[0m\u001b[0;34m,\u001b[0m\u001b[0;34m'*'\u001b[0m\u001b[0;34m,\u001b[0m\u001b[0mmarkersize\u001b[0m\u001b[0;34m=\u001b[0m\u001b[0;36m10\u001b[0m\u001b[0;34m,\u001b[0m\u001b[0mcolor\u001b[0m\u001b[0;34m=\u001b[0m\u001b[0;34m'yellow'\u001b[0m\u001b[0;34m)\u001b[0m\u001b[0;34m\u001b[0m\u001b[0m\n",
      "\u001b[0;31mTypeError\u001b[0m: can not resolve method template call for 'Intersection'"
     ]
    },
    {
     "data": {
      "image/png": "[encoded data removed]",
      "text/plain": [
       "<matplotlib.figure.Figure at 0x11d7cdd10>"
      ]
     },
     "metadata": {},
     "output_type": "display_data"
    }
   ],
   "source": [
    "fig,ax=plt.subplots(figsize=(10,6))\n",
    "ls1=geo2d.LineSegment(DTYPE)(Vector(DTYPE)(0,0),Vector(DTYPE)(10,10))\n",
    "ax.plot([ls1.pt1.x,ls1.pt2.x],[ls1.pt1.y,ls1.pt2.y],'-o',lw=2,color='blue')\n",
    "\n",
    "for i in xrange(-10,10):\n",
    "    ls2=geo2d.LineSegment(DTYPE)(Vector(DTYPE)(0,i),Vector(DTYPE)(5,0))\n",
    "    ax.plot([ls2.pt1.x,ls2.pt2.x],[ls2.pt1.y,ls2.pt2.y],'-',lw=2,color='red',alpha=0.5)\n",
    "    pt=Vector(DTYPE)(0,0)\n",
    "    geo2d.Intersection(ls1,ls2,pt)\n",
    "\n",
    "    ax.plot(pt.x,pt.y,'*',markersize=10,color='yellow')\n",
    "for i in xrange(-10,10):\n",
    "    ls2=geo2d.LineSegment(DTYPE)(Vector(DTYPE)(10,i),Vector(DTYPE)(5,0))\n",
    "    ax.plot([ls2.pt1.x,ls2.pt2.x],[ls2.pt1.y,ls2.pt2.y],'-',lw=2,color='red',alpha=0.5)\n",
    "    pt=Vector(DTYPE)(0,0)\n",
    "    geo2d.Intersection(ls1,ls2,pt)\n",
    "    ax.plot(pt.x,pt.y,'*',markersize=10,color='yellow')\n",
    "for i in xrange(0,10):\n",
    "    ls2=geo2d.LineSegment(DTYPE)(Vector(DTYPE)(i,-10),Vector(DTYPE)(5,0))\n",
    "    ax.plot([ls2.pt1.x,ls2.pt2.x],[ls2.pt1.y,ls2.pt2.y],'-',lw=2,color='red',alpha=0.5)\n",
    "    pt=Vector(DTYPE)(0,0)\n",
    "    geo2d.Intersection(ls1,ls2,pt)\n",
    "\n",
    "    ax.plot(pt.x,pt.y,'*',markersize=10,color='yellow')\n",
    "for i in xrange(0,10):\n",
    "    ls2=geo2d.LineSegment(DTYPE)(Vector(DTYPE)(i,10),Vector(DTYPE)(5,0))\n",
    "    ax.plot([ls2.pt1.x,ls2.pt2.x],[ls2.pt1.y,ls2.pt2.y],'-',lw=2,color='red',alpha=0.5)\n",
    "    pt=Vector(DTYPE)(0,0)\n",
    "    geo2d.Intersection(ls1,ls2,pt)\n",
    "\n",
    "    ax.plot(pt.x,pt.y,'*',markersize=10,color='yellow')\n",
    "ax.set_xlim(-5,15)\n",
    "ax.set_ylim(-15,15)\n",
    "plt.show()"
   ]
  },
  {
   "cell_type": "code",
   "execution_count": null,
   "metadata": {
    "collapsed": true
   },
   "outputs": [],
   "source": []
  }
 ],
 "metadata": {
  "kernelspec": {
   "display_name": "Python 2",
   "language": "python",
   "name": "python2"
  },
  "language_info": {
   "codemirror_mode": {
    "name": "ipython",
    "version": 2
   },
   "file_extension": ".py",
   "mimetype": "text/x-python",
   "name": "python",
   "nbconvert_exporter": "python",
   "pygments_lexer": "ipython2",
   "version": "2.7.10"
  }
 },
 "nbformat": 4,
 "nbformat_minor": 0
}
