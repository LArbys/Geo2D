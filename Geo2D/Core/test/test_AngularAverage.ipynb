{
 "cells": [
  {
   "cell_type": "code",
   "execution_count": null,
   "metadata": {
    "collapsed": false
   },
   "outputs": [],
   "source": [
    "%matplotlib inline\n",
    "#%pylab\n",
    "import matplotlib\n",
    "import matplotlib.pyplot as plt\n",
    "import matplotlib.colors as mpc\n",
    "from mpl_toolkits.mplot3d import Axes3D\n",
    "import numpy as np\n",
    "import matplotlib.patches as patches\n",
    "import scipy\n",
    "from scipy import interpolate\n",
    "import pandas as pd\n",
    "import itertools\n",
    "from root_numpy import root2array, root2rec, tree2rec, array2root\n",
    "import ROOT\n",
    "from ROOT import geo2d\n",
    "geo2d.load_pyutil\n",
    "from ROOT.cv import Point_ as Vector\n",
    "DTYPE='float'\n",
    "pdraw = geo2d.PyDraw()"
   ]
  },
  {
   "cell_type": "code",
   "execution_count": null,
   "metadata": {
    "collapsed": false,
    "scrolled": false
   },
   "outputs": [],
   "source": [
    "offset=45\n",
    "for ix,th in enumerate(xrange(0,360,10)):    \n",
    "    c    = geo2d.Circle(DTYPE)(0,0,5)\n",
    "    \n",
    "    fig,ax = plt.subplots(figsize=(8,8))\n",
    "    cplt = matplotlib.patches.Circle((c.center.x,c.center.y),c.radius,ec='b',fc='none',lw=2)\n",
    "\n",
    "    pts  = geo2d.VectorArray(DTYPE)()\n",
    "    pt = Vector(DTYPE)(5*np.cos(th*np.pi/180.0),5*np.sin(th*np.pi/180.0))\n",
    "    pts.push_back(pt)\n",
    "    ax.plot(pt.x,pt.y,'o',color='red',markersize=10)\n",
    "    pt = Vector(DTYPE)(5*np.cos((th+offset)*np.pi/180.0),5*np.sin((th+offset)*np.pi/180.0))\n",
    "    ax.plot(pt.x,pt.y,'o',color='red',markersize=10)\n",
    "    pts.push_back(pt)\n",
    "\n",
    "\n",
    "    pt = geo2d.AngularAverage(c,pts)\n",
    "    ax.plot(pt.x,pt.y,'o',color='blue',markersize=10)\n",
    "\n",
    "\n",
    "    ax.add_patch(cplt)\n",
    "    ax.set_xlim(-10,10)\n",
    "    ax.set_ylim(-10,10)\n",
    "    ax.grid()\n",
    "    #plt.savefig(\"aho_%04d.png\"%ix)\n",
    "    plt.show()\n"
   ]
  },
  {
   "cell_type": "code",
   "execution_count": null,
   "metadata": {
    "collapsed": false
   },
   "outputs": [],
   "source": []
  }
 ],
 "metadata": {
  "kernelspec": {
   "display_name": "Python 2",
   "language": "python",
   "name": "python2"
  },
  "language_info": {
   "codemirror_mode": {
    "name": "ipython",
    "version": 2
   },
   "file_extension": ".py",
   "mimetype": "text/x-python",
   "name": "python",
   "nbconvert_exporter": "python",
   "pygments_lexer": "ipython2",
   "version": "2.7.10"
  }
 },
 "nbformat": 4,
 "nbformat_minor": 0
}
